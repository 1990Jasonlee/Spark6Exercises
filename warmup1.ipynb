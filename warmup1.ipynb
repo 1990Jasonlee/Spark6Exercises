{
 "cells": [
  {
   "cell_type": "code",
   "execution_count": 14,
   "id": "daae4f74-9e90-4871-b63f-d87a2f81ba0c",
   "metadata": {},
   "outputs": [
    {
     "name": "stderr",
     "output_type": "stream",
     "text": [
      "22/04/22 21:41:05 WARN NativeCodeLoader: Unable to load native-hadoop library for your platform... using builtin-java classes where applicable\n",
      "Using Spark's default log4j profile: org/apache/spark/log4j-defaults.properties\n",
      "Setting default log level to \"WARN\".\n",
      "To adjust logging level use sc.setLogLevel(newLevel). For SparkR, use setLogLevel(newLevel).\n",
      "22/04/22 21:41:11 WARN Utils: Service 'SparkUI' could not bind on port 4040. Attempting port 4041.\n"
     ]
    }
   ],
   "source": [
    "from pyspark.sql import SparkSession\n",
    "spark = SparkSession.builder \\\n",
    ".master(\"local\") \\\n",
    ".config(\"spark.sql.autoBroadcastJoinThreshold\", -1) \\\n",
    ".config(\"spark.executor.memory\", \"500mb\") \\\n",
    ".appName(\"Exercise1\") \\\n",
    ".getOrCreate()"
   ]
  },
  {
   "cell_type": "code",
   "execution_count": 15,
   "id": "ca784136-aad1-4011-aad5-7a80f08c1c7f",
   "metadata": {},
   "outputs": [
    {
     "name": "stderr",
     "output_type": "stream",
     "text": [
      "                                                                                \r"
     ]
    }
   ],
   "source": [
    "orders = spark.read.format('parquet').load('DatasetToCompleteTheSixSparkExercises/sales_parquet')\n",
    "products = spark.read.format('parquet').load('DatasetToCompleteTheSixSparkExercises/products_parquet') \n",
    "sellers = spark.read.format('parquet').load('DatasetToCompleteTheSixSparkExercises/sellers_parquet')"
   ]
  },
  {
   "cell_type": "code",
   "execution_count": 16,
   "id": "f3ec7afd-045a-49c9-aaa7-c9e904fb02da",
   "metadata": {},
   "outputs": [
    {
     "name": "stderr",
     "output_type": "stream",
     "text": [
      "                                                                                \r"
     ]
    },
    {
     "data": {
      "text/plain": [
       "20000040"
      ]
     },
     "execution_count": 16,
     "metadata": {},
     "output_type": "execute_result"
    }
   ],
   "source": [
    "orders.select('product_id').count()"
   ]
  },
  {
   "cell_type": "code",
   "execution_count": 17,
   "id": "e047b16f-f2bf-4b24-8356-18b6a5241bb3",
   "metadata": {},
   "outputs": [
    {
     "data": {
      "text/plain": [
       "75000000"
      ]
     },
     "execution_count": 17,
     "metadata": {},
     "output_type": "execute_result"
    }
   ],
   "source": [
    "products.select('product_id').count()"
   ]
  },
  {
   "cell_type": "code",
   "execution_count": 18,
   "id": "c303569d-eb3a-463e-8680-89d530806396",
   "metadata": {},
   "outputs": [
    {
     "data": {
      "text/plain": [
       "10"
      ]
     },
     "execution_count": 18,
     "metadata": {},
     "output_type": "execute_result"
    }
   ],
   "source": [
    "sellers.select('seller_id').count()"
   ]
  },
  {
   "cell_type": "code",
   "execution_count": null,
   "id": "e5362bdb-2a9c-4dc8-a8c3-724eda6c22c1",
   "metadata": {},
   "outputs": [],
   "source": []
  },
  {
   "cell_type": "code",
   "execution_count": null,
   "id": "d6799593-1042-406c-8c0a-4e62ef1fe8f2",
   "metadata": {},
   "outputs": [],
   "source": []
  },
  {
   "cell_type": "code",
   "execution_count": null,
   "id": "1429b61c-e69c-42b9-afe9-9ba9517dec96",
   "metadata": {},
   "outputs": [],
   "source": []
  }
 ],
 "metadata": {
  "kernelspec": {
   "display_name": "Python 3 (ipykernel)",
   "language": "python",
   "name": "python3"
  },
  "language_info": {
   "codemirror_mode": {
    "name": "ipython",
    "version": 3
   },
   "file_extension": ".py",
   "mimetype": "text/x-python",
   "name": "python",
   "nbconvert_exporter": "python",
   "pygments_lexer": "ipython3",
   "version": "3.8.13"
  }
 },
 "nbformat": 4,
 "nbformat_minor": 5
}
