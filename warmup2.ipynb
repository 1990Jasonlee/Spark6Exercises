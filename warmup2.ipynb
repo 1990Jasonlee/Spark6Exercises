{
 "cells": [
  {
   "cell_type": "code",
   "execution_count": 7,
   "id": "e4d039ad-f338-46a7-b57e-7013bd20efec",
   "metadata": {},
   "outputs": [],
   "source": [
    "from pyspark.sql import SparkSession\n",
    "from pyspark.sql.functions import *\n",
    "from pyspark.sql import Row\n",
    "from pyspark.sql.types import IntegerType\n"
   ]
  },
  {
   "cell_type": "code",
   "execution_count": 3,
   "id": "cc9319e1-b995-4bd2-88f9-4f2490d07904",
   "metadata": {},
   "outputs": [
    {
     "name": "stderr",
     "output_type": "stream",
     "text": [
      "22/04/23 12:58:26 WARN NativeCodeLoader: Unable to load native-hadoop library for your platform... using builtin-java classes where applicable\n",
      "Using Spark's default log4j profile: org/apache/spark/log4j-defaults.properties\n",
      "Setting default log level to \"WARN\".\n",
      "To adjust logging level use sc.setLogLevel(newLevel). For SparkR, use setLogLevel(newLevel).\n"
     ]
    }
   ],
   "source": [
    "spark = SparkSession.builder \\\n",
    ".master(\"local\") \\\n",
    ".config(\"spark.sql.autoBroadcastJoinThreshold\", -1) \\\n",
    ".config(\"spark.executor.memory\", \"500mb\") \\\n",
    ".appName(\"Exercise1\") \\\n",
    ".getOrCreate()"
   ]
  },
  {
   "cell_type": "code",
   "execution_count": 31,
   "id": "4067e319-95ea-47cf-b43c-f1d3044d1786",
   "metadata": {},
   "outputs": [
    {
     "name": "stdout",
     "output_type": "stream",
     "text": [
      "+--------+----------+---------+----------+---------------+--------------------+\n",
      "|order_id|product_id|seller_id|      date|num_pieces_sold|       bill_raw_text|\n",
      "+--------+----------+---------+----------+---------------+--------------------+\n",
      "|       1|         0|        0|2020-07-10|             26|kyeibuumwlyhuwksx...|\n",
      "+--------+----------+---------+----------+---------------+--------------------+\n",
      "only showing top 1 row\n",
      "\n"
     ]
    }
   ],
   "source": [
    "sales_table = spark.read.parquet('DatasetToCompleteTheSixSparkExercises/sales_parquet')\n",
    "products_table = spark.read.parquet('DatasetToCompleteTheSixSparkExercises/products_parquet')\n",
    "sellers_table = spark.read.parquet('DatasetToCompleteTheSixSparkExercises/sellers_parquet')\n",
    "sales.show(1)"
   ]
  },
  {
   "cell_type": "code",
   "execution_count": 32,
   "id": "474823c0-76fc-4eba-945d-d7f9dcac5780",
   "metadata": {},
   "outputs": [
    {
     "name": "stderr",
     "output_type": "stream",
     "text": [
      "                                                                                \r"
     ]
    },
    {
     "name": "stdout",
     "output_type": "stream",
     "text": [
      "+----------+-----------------+\n",
      "|      date|count(product_id)|\n",
      "+----------+-----------------+\n",
      "|2020-07-03|           100017|\n",
      "|2020-07-07|            99756|\n",
      "|2020-07-01|           100337|\n",
      "|2020-07-08|            99662|\n",
      "|2020-07-04|            99791|\n",
      "|2020-07-10|            98973|\n",
      "|2020-07-09|           100501|\n",
      "|2020-07-06|           100765|\n",
      "|2020-07-02|            99807|\n",
      "|2020-07-05|            99796|\n",
      "+----------+-----------------+\n",
      "\n"
     ]
    }
   ],
   "source": [
    "from pyspark.sql.functions import countDistinct\n",
    "sales_table.groupby('date').agg(countDistinct('product_id')).show(10)"
   ]
  },
  {
   "cell_type": "code",
   "execution_count": null,
   "id": "4d1dcdd7-0a96-41bf-b630-1aa3f8afb358",
   "metadata": {},
   "outputs": [],
   "source": []
  },
  {
   "cell_type": "code",
   "execution_count": null,
   "id": "53a4792f-43f7-4a1d-848b-d00985d09f1e",
   "metadata": {},
   "outputs": [],
   "source": []
  }
 ],
 "metadata": {
  "kernelspec": {
   "display_name": "Python 3 (ipykernel)",
   "language": "python",
   "name": "python3"
  },
  "language_info": {
   "codemirror_mode": {
    "name": "ipython",
    "version": 3
   },
   "file_extension": ".py",
   "mimetype": "text/x-python",
   "name": "python",
   "nbconvert_exporter": "python",
   "pygments_lexer": "ipython3",
   "version": "3.8.13"
  }
 },
 "nbformat": 4,
 "nbformat_minor": 5
}
