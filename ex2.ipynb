{
 "cells": [
  {
   "cell_type": "code",
   "execution_count": 5,
   "metadata": {},
   "outputs": [],
   "source": [
    "from pyspark.sql import SparkSession\n",
    "from pyspark.sql.functions import *"
   ]
  },
  {
   "cell_type": "code",
   "execution_count": 3,
   "metadata": {},
   "outputs": [
    {
     "name": "stderr",
     "output_type": "stream",
     "text": [
      "Using Spark's default log4j profile: org/apache/spark/log4j-defaults.properties\n",
      "Setting default log level to \"WARN\".\n",
      "To adjust logging level use sc.setLogLevel(newLevel). For SparkR, use setLogLevel(newLevel).\n",
      "22/04/24 10:53:20 WARN NativeCodeLoader: Unable to load native-hadoop library for your platform... using builtin-java classes where applicable\n",
      "22/04/24 10:53:26 WARN Utils: Service 'SparkUI' could not bind on port 4040. Attempting port 4041.\n",
      "22/04/24 10:53:26 WARN Utils: Service 'SparkUI' could not bind on port 4041. Attempting port 4042.\n"
     ]
    }
   ],
   "source": [
    "spark = SparkSession.builder \\\n",
    ".master(\"local\") \\\n",
    ".config(\"spark.sql.autoBroadcastJoinThreshold\", -1) \\\n",
    ".config(\"spark.executor.memory\", \"500mb\") \\\n",
    ".appName(\"Exercise1\") \\\n",
    ".getOrCreate()"
   ]
  },
  {
   "cell_type": "code",
   "execution_count": 4,
   "metadata": {},
   "outputs": [
    {
     "name": "stderr",
     "output_type": "stream",
     "text": [
      "                                                                                \r"
     ]
    }
   ],
   "source": [
    "products_table = spark.read.parquet('DatasetToCompleteTheSixSparkExercises/products_parquet')\n",
    "sales_table = spark.read.parquet('DatasetToCompleteTheSixSparkExercises/sales_parquet')\n",
    "sellers_table = spark.read.parquet('DatasetToCompleteTheSixSparkExercises/sellers_parquet')"
   ]
  },
  {
   "cell_type": "code",
   "execution_count": 7,
   "metadata": {},
   "outputs": [],
   "source": [
    "#num_pieces_sold sales table /daily_target seller table\n",
    "sales_seller_table = sales_table.join(sellers_table, on='seller_id')"
   ]
  },
  {
   "cell_type": "code",
   "execution_count": 8,
   "metadata": {},
   "outputs": [
    {
     "name": "stderr",
     "output_type": "stream",
     "text": [
      "                                                                                \r"
     ]
    },
    {
     "name": "stdout",
     "output_type": "stream",
     "text": [
      "+---------+--------+----------+----------+---------------+--------------------+-----------+------------+\n",
      "|seller_id|order_id|product_id|      date|num_pieces_sold|       bill_raw_text|seller_name|daily_target|\n",
      "+---------+--------+----------+----------+---------------+--------------------+-----------+------------+\n",
      "|        7|  475175|   5966839|2020-07-02|             92|busxlccjcltxsivij...|   seller_7|     1946998|\n",
      "+---------+--------+----------+----------+---------------+--------------------+-----------+------------+\n",
      "only showing top 1 row\n",
      "\n"
     ]
    }
   ],
   "source": [
    "sales_seller_table.show(1)"
   ]
  },
  {
   "cell_type": "code",
   "execution_count": 9,
   "metadata": {},
   "outputs": [],
   "source": [
    "sales_seller_table = sales_seller_table.withColumn('ratio', (col('num_pieces_sold')/ col('daily_target')))"
   ]
  },
  {
   "cell_type": "code",
   "execution_count": 11,
   "metadata": {},
   "outputs": [
    {
     "name": "stderr",
     "output_type": "stream",
     "text": [
      "[Stage 8:================>(82 + 1) / 83][Stage 9:>                  (0 + 0) / 1]\r"
     ]
    },
    {
     "name": "stdout",
     "output_type": "stream",
     "text": [
      "+---------+--------+----------+----------+---------------+--------------------+-----------+------------+--------------------+\n",
      "|seller_id|order_id|product_id|      date|num_pieces_sold|       bill_raw_text|seller_name|daily_target|               ratio|\n",
      "+---------+--------+----------+----------+---------------+--------------------+-----------+------------+--------------------+\n",
      "|        7|  475175|   5966839|2020-07-02|             92|busxlccjcltxsivij...|   seller_7|     1946998|4.725223138390486E-5|\n",
      "|        7|  476576|  27820645|2020-07-02|             21|izsrlpbxtjiwuotix...|   seller_7|     1946998|1.078583542458698E-5|\n",
      "|        7|  476798|  61826713|2020-07-07|             79|vgnmlzrlgwqatgqnm...|   seller_7|     1946998|4.057528564487483E-5|\n",
      "|        7|  482233|  42956166|2020-07-10|             55|hsjfmazxjughlpzwu...|   seller_7|     1946998|2.824861658820399...|\n",
      "|        7|  483475|  61753973|2020-07-06|             58|hjcrwogczkynumxxu...|   seller_7|     1946998|2.978945022028784...|\n",
      "|        7|  484467|  26083403|2020-07-08|             53|wnesvxbktptkauehi...|   seller_7|     1946998|2.722139416681475...|\n",
      "|        7|  485803|  45967694|2020-07-09|              1|hlgoaqrdmroofhylc...|   seller_7|     1946998|5.136112106946181E-7|\n",
      "|        7|  488372|  27813308|2020-07-07|             41|zlkgjwthpmntwqbsl...|   seller_7|     1946998|2.105805963847934E-5|\n",
      "|        7|  489324|  43017786|2020-07-03|             57|fdqdqrwzpmvjnjclt...|   seller_7|     1946998|2.927583900959323E-5|\n",
      "|        7|  490714|  18213429|2020-07-05|             45|ifwsuqipzhcxdcqod...|   seller_7|     1946998|2.311250448125781...|\n",
      "+---------+--------+----------+----------+---------------+--------------------+-----------+------------+--------------------+\n",
      "only showing top 10 rows\n",
      "\n"
     ]
    },
    {
     "name": "stderr",
     "output_type": "stream",
     "text": [
      "                                                                                \r"
     ]
    }
   ],
   "source": [
    "sales_seller_table.show(10)"
   ]
  },
  {
   "cell_type": "code",
   "execution_count": null,
   "metadata": {},
   "outputs": [],
   "source": []
  }
 ],
 "metadata": {
  "interpreter": {
   "hash": "31f2aee4e71d21fbe5cf8b01ff0e069b9275f58929596ceb00d14d90e3e16cd6"
  },
  "kernelspec": {
   "display_name": "Python 3.8.9 64-bit",
   "language": "python",
   "name": "python3"
  },
  "language_info": {
   "codemirror_mode": {
    "name": "ipython",
    "version": 3
   },
   "file_extension": ".py",
   "mimetype": "text/x-python",
   "name": "python",
   "nbconvert_exporter": "python",
   "pygments_lexer": "ipython3",
   "version": "3.8.9"
  },
  "orig_nbformat": 4
 },
 "nbformat": 4,
 "nbformat_minor": 2
}
