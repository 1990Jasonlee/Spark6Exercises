{
 "cells": [
  {
   "cell_type": "code",
   "execution_count": 18,
   "id": "b5919459-041a-420d-b550-081c2bf1b19e",
   "metadata": {},
   "outputs": [],
   "source": [
    "from pyspark.sql import SparkSession\n",
    "from pyspark.sql.functions import col, avg"
   ]
  },
  {
   "cell_type": "code",
   "execution_count": 2,
   "id": "ebff4e22-d9df-4c27-98a1-525987e18ea1",
   "metadata": {},
   "outputs": [
    {
     "name": "stderr",
     "output_type": "stream",
     "text": [
      "22/04/23 10:47:37 WARN NativeCodeLoader: Unable to load native-hadoop library for your platform... using builtin-java classes where applicable\n",
      "Using Spark's default log4j profile: org/apache/spark/log4j-defaults.properties\n",
      "Setting default log level to \"WARN\".\n",
      "To adjust logging level use sc.setLogLevel(newLevel). For SparkR, use setLogLevel(newLevel).\n",
      "22/04/23 10:47:43 WARN Utils: Service 'SparkUI' could not bind on port 4040. Attempting port 4041.\n",
      "22/04/23 10:47:43 WARN Utils: Service 'SparkUI' could not bind on port 4041. Attempting port 4042.\n",
      "22/04/23 10:47:43 WARN Utils: Service 'SparkUI' could not bind on port 4042. Attempting port 4043.\n",
      "22/04/23 10:47:43 WARN Utils: Service 'SparkUI' could not bind on port 4043. Attempting port 4044.\n"
     ]
    }
   ],
   "source": [
    "spark = SparkSession.builder \\\n",
    ".master(\"local\") \\\n",
    ".config(\"spark.sql.autoBroadcastJoinThreshold\", -1) \\\n",
    ".config(\"spark.executor.memory\", \"500mb\") \\\n",
    ".appName(\"Exercise1\") \\\n",
    ".getOrCreate()"
   ]
  },
  {
   "cell_type": "code",
   "execution_count": 6,
   "id": "76afe6b5-64ee-41a9-98ac-f1e412536680",
   "metadata": {},
   "outputs": [],
   "source": [
    "sales = spark.read.format('parquet').load('DatasetToCompleteTheSixSparkExercises/sales_parquet')\n",
    "products = spark.read.format('parquet').load('DatasetToCompleteTheSixSparkExercises/products_parquet')"
   ]
  },
  {
   "cell_type": "code",
   "execution_count": 7,
   "id": "84f4bb7e-f716-4ae0-91e5-697910fbfec8",
   "metadata": {},
   "outputs": [
    {
     "name": "stdout",
     "output_type": "stream",
     "text": [
      "+--------+----------+---------+----------+---------------+--------------------+\n",
      "|order_id|product_id|seller_id|      date|num_pieces_sold|       bill_raw_text|\n",
      "+--------+----------+---------+----------+---------------+--------------------+\n",
      "|       1|         0|        0|2020-07-10|             26|kyeibuumwlyhuwksx...|\n",
      "+--------+----------+---------+----------+---------------+--------------------+\n",
      "only showing top 1 row\n",
      "\n",
      "+----------+------------+-----+\n",
      "|product_id|product_name|price|\n",
      "+----------+------------+-----+\n",
      "|         0|   product_0|   22|\n",
      "+----------+------------+-----+\n",
      "only showing top 1 row\n",
      "\n"
     ]
    }
   ],
   "source": [
    "sales.show(1)\n",
    "products.show(1)"
   ]
  },
  {
   "cell_type": "code",
   "execution_count": 8,
   "id": "511e5b19-fbd6-4bf6-87f1-04d8ca561be0",
   "metadata": {},
   "outputs": [],
   "source": [
    "sales_products = sales.join(products, on='product_id')"
   ]
  },
  {
   "cell_type": "code",
   "execution_count": 11,
   "id": "035ef3c8-788d-4f2d-8ec7-ecef499a0c17",
   "metadata": {},
   "outputs": [
    {
     "name": "stderr",
     "output_type": "stream",
     "text": [
      "[Stage 11:===================================================>      (8 + 1) / 9]\r"
     ]
    },
    {
     "name": "stdout",
     "output_type": "stream",
     "text": [
      "+----------+--------+---------+----------+---------------+--------------------+----------------+-----+\n",
      "|product_id|order_id|seller_id|      date|num_pieces_sold|       bill_raw_text|    product_name|price|\n",
      "+----------+--------+---------+----------+---------------+--------------------+----------------+-----+\n",
      "|  10005243|12478308|        6|2020-07-04|             98|qfvpgiscflyjxphcq...|product_10005243|   44|\n",
      "+----------+--------+---------+----------+---------------+--------------------+----------------+-----+\n",
      "only showing top 1 row\n",
      "\n"
     ]
    },
    {
     "name": "stderr",
     "output_type": "stream",
     "text": [
      "                                                                                \r"
     ]
    }
   ],
   "source": [
    "sales_products.show(1)"
   ]
  },
  {
   "cell_type": "code",
   "execution_count": 17,
   "id": "291baac4-a864-47a8-81f4-ca96d83ff984",
   "metadata": {},
   "outputs": [],
   "source": [
    "sales_products_avg = sales_products.withColumn('revenue', (col('num_pieces_sold') * col('price')))"
   ]
  },
  {
   "cell_type": "code",
   "execution_count": 20,
   "id": "df1f4908-d367-4d66-90f8-ce829450dea8",
   "metadata": {},
   "outputs": [
    {
     "name": "stderr",
     "output_type": "stream",
     "text": [
      "[Stage 15:=====================================================>(197 + 1) / 200]\r"
     ]
    },
    {
     "name": "stdout",
     "output_type": "stream",
     "text": [
      "+------------------+\n",
      "|      avg(revenue)|\n",
      "+------------------+\n",
      "|1246.1338560822878|\n",
      "+------------------+\n",
      "\n"
     ]
    },
    {
     "name": "stderr",
     "output_type": "stream",
     "text": [
      "                                                                                \r"
     ]
    }
   ],
   "source": [
    "sales_products_avg.select(avg('revenue')).show()"
   ]
  },
  {
   "cell_type": "code",
   "execution_count": null,
   "id": "00b30733-6408-47b1-a351-90884774bc1d",
   "metadata": {},
   "outputs": [],
   "source": []
  }
 ],
 "metadata": {
  "kernelspec": {
   "display_name": "Python 3 (ipykernel)",
   "language": "python",
   "name": "python3"
  },
  "language_info": {
   "codemirror_mode": {
    "name": "ipython",
    "version": 3
   },
   "file_extension": ".py",
   "mimetype": "text/x-python",
   "name": "python",
   "nbconvert_exporter": "python",
   "pygments_lexer": "ipython3",
   "version": "3.8.13"
  }
 },
 "nbformat": 4,
 "nbformat_minor": 5
}
